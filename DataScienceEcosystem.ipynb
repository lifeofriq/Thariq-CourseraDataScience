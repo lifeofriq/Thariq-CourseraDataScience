{
 "cells": [
  {
   "cell_type": "markdown",
   "id": "cdc776f7-2c77-4139-9a09-b9079f27ea18",
   "metadata": {},
   "source": [
    "<H1>Data Science Tools and Ecosystem</H1>"
   ]
  },
  {
   "cell_type": "markdown",
   "id": "c1f3e4ed-f059-4e06-baf6-ffed0a3b31e0",
   "metadata": {},
   "source": [
    "<h3>In this notebook, Data Science tools and ecosystem are sumamarized"
   ]
  },
  {
   "cell_type": "markdown",
   "id": "9ef869dd-4bb8-4419-ba28-2f7db4c34a88",
   "metadata": {},
   "source": [
    "**Objectives**\n",
    "<ul>\n",
    "    <li>List popular languages for Data Science</li>\n",
    "    <li>List of the commonly used libraries by data scientist</li>\n",
    "    <li>List of the commonly used tools by data scientist</li>\n",
    "    <li>Simple arithmetics operation</li>\n",
    "</ul>"
   ]
  },
  {
   "cell_type": "markdown",
   "id": "55d739d3-0953-45f6-accf-a69d54411dfc",
   "metadata": {},
   "source": [
    "<h3>Some of the popular languages that Data Scientist use are:</h3>\n",
    "<ol>\n",
    "    <li>Python</li>\n",
    "    <li>SQL</li>\n",
    "    <li>R</li>\n",
    "</ol>"
   ]
  },
  {
   "cell_type": "markdown",
   "id": "a097e72c-8295-46f1-bc2a-9786fa577544",
   "metadata": {},
   "source": [
    "<h3>Some of the commonly used libraries used by Data Scientists include:</h3>\n",
    "<ol>\n",
    "    <li>matplotlib</li>\n",
    "    <li>scikit learn</li>\n",
    "    <li>Keras</li>\n",
    "</ol>"
   ]
  },
  {
   "cell_type": "markdown",
   "id": "ffc05c05-c6e5-4b67-97a6-46f324028d47",
   "metadata": {},
   "source": [
    "| Data Science Tools       |\n",
    "|--------------------------|\n",
    "| Jupyter Notebook         |\n",
    "| RStudio                  |\n",
    "| Apache Zeppelin          |\n"
   ]
  },
  {
   "cell_type": "markdown",
   "id": "4d642c45-515f-40da-9410-d8f80e2dd87c",
   "metadata": {},
   "source": [
    "<h3>Below are a few examples of evaluating arithmetic expressions in Python<h3>"
   ]
  },
  {
   "cell_type": "code",
   "execution_count": 12,
   "id": "1b41e082-8ca9-4b5a-b5a3-775daabd82eb",
   "metadata": {},
   "outputs": [
    {
     "name": "stdout",
     "output_type": "stream",
     "text": [
      "17\n"
     ]
    }
   ],
   "source": [
    "print((3*4)+5)\n",
    "#This is a simple arithmetic expression to multiply then add integers"
   ]
  },
  {
   "cell_type": "code",
   "execution_count": 16,
   "id": "fc999930-39bd-490c-95f0-ca8a01f2b98a",
   "metadata": {},
   "outputs": [
    {
     "name": "stdout",
     "output_type": "stream",
     "text": [
      "3.3333333333333335\n"
     ]
    }
   ],
   "source": [
    "#This will convert 200 minutes to hours by diving by 60\n",
    "x = 60\n",
    "print(200/x)"
   ]
  },
  {
   "cell_type": "markdown",
   "id": "91011fa9-2f40-4225-8733-780fafd9a7e8",
   "metadata": {},
   "source": [
    "<h2>Author</h2>\n",
    "<p>Thariq Putradhafa</p>"
   ]
  },
  {
   "cell_type": "code",
   "execution_count": null,
   "id": "140243fd-90fb-486f-8e53-ab132ff52c72",
   "metadata": {},
   "outputs": [],
   "source": []
  }
 ],
 "metadata": {
  "kernelspec": {
   "display_name": "Python 3 (ipykernel)",
   "language": "python",
   "name": "python3"
  },
  "language_info": {
   "codemirror_mode": {
    "name": "ipython",
    "version": 3
   },
   "file_extension": ".py",
   "mimetype": "text/x-python",
   "name": "python",
   "nbconvert_exporter": "python",
   "pygments_lexer": "ipython3",
   "version": "3.12.7"
  }
 },
 "nbformat": 4,
 "nbformat_minor": 5
}
