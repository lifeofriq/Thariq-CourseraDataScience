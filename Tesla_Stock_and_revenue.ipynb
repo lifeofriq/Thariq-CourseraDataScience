{
  "nbformat": 4,
  "nbformat_minor": 0,
  "metadata": {
    "colab": {
      "provenance": []
    },
    "kernelspec": {
      "name": "python3",
      "display_name": "Python 3"
    },
    "language_info": {
      "name": "python"
    }
  },
  "cells": [
    {
      "cell_type": "markdown",
      "source": [
        "#Extracting Tesla Stock Data Using yfinance"
      ],
      "metadata": {
        "id": "tKHbLsOxtSU5"
      }
    },
    {
      "cell_type": "markdown",
      "source": [
        "1st step: Install the library needed"
      ],
      "metadata": {
        "id": "okNTCqpetWDJ"
      }
    },
    {
      "cell_type": "code",
      "execution_count": 28,
      "metadata": {
        "colab": {
          "base_uri": "https://localhost:8080/"
        },
        "id": "mY_iwWeItHQU",
        "outputId": "c4a0b58a-9d36-4523-87ed-b1f961ed468f"
      },
      "outputs": [
        {
          "output_type": "stream",
          "name": "stdout",
          "text": [
            "Requirement already satisfied: yfinance in /usr/local/lib/python3.10/dist-packages (0.2.48)\n",
            "Requirement already satisfied: dash in /usr/local/lib/python3.10/dist-packages (2.18.2)\n",
            "Requirement already satisfied: plotly in /usr/local/lib/python3.10/dist-packages (5.24.1)\n",
            "Requirement already satisfied: pandas>=1.3.0 in /usr/local/lib/python3.10/dist-packages (from yfinance) (2.2.2)\n",
            "Requirement already satisfied: numpy>=1.16.5 in /usr/local/lib/python3.10/dist-packages (from yfinance) (1.26.4)\n",
            "Requirement already satisfied: requests>=2.31 in /usr/local/lib/python3.10/dist-packages (from yfinance) (2.32.3)\n",
            "Requirement already satisfied: multitasking>=0.0.7 in /usr/local/lib/python3.10/dist-packages (from yfinance) (0.0.11)\n",
            "Requirement already satisfied: lxml>=4.9.1 in /usr/local/lib/python3.10/dist-packages (from yfinance) (5.3.0)\n",
            "Requirement already satisfied: platformdirs>=2.0.0 in /usr/local/lib/python3.10/dist-packages (from yfinance) (4.3.6)\n",
            "Requirement already satisfied: pytz>=2022.5 in /usr/local/lib/python3.10/dist-packages (from yfinance) (2024.2)\n",
            "Requirement already satisfied: frozendict>=2.3.4 in /usr/local/lib/python3.10/dist-packages (from yfinance) (2.4.6)\n",
            "Requirement already satisfied: peewee>=3.16.2 in /usr/local/lib/python3.10/dist-packages (from yfinance) (3.17.7)\n",
            "Requirement already satisfied: beautifulsoup4>=4.11.1 in /usr/local/lib/python3.10/dist-packages (from yfinance) (4.12.3)\n",
            "Requirement already satisfied: html5lib>=1.1 in /usr/local/lib/python3.10/dist-packages (from yfinance) (1.1)\n",
            "Requirement already satisfied: Flask<3.1,>=1.0.4 in /usr/local/lib/python3.10/dist-packages (from dash) (3.0.3)\n",
            "Requirement already satisfied: Werkzeug<3.1 in /usr/local/lib/python3.10/dist-packages (from dash) (3.0.6)\n",
            "Requirement already satisfied: dash-html-components==2.0.0 in /usr/local/lib/python3.10/dist-packages (from dash) (2.0.0)\n",
            "Requirement already satisfied: dash-core-components==2.0.0 in /usr/local/lib/python3.10/dist-packages (from dash) (2.0.0)\n",
            "Requirement already satisfied: dash-table==5.0.0 in /usr/local/lib/python3.10/dist-packages (from dash) (5.0.0)\n",
            "Requirement already satisfied: importlib-metadata in /usr/local/lib/python3.10/dist-packages (from dash) (8.5.0)\n",
            "Requirement already satisfied: typing-extensions>=4.1.1 in /usr/local/lib/python3.10/dist-packages (from dash) (4.12.2)\n",
            "Requirement already satisfied: retrying in /usr/local/lib/python3.10/dist-packages (from dash) (1.3.4)\n",
            "Requirement already satisfied: nest-asyncio in /usr/local/lib/python3.10/dist-packages (from dash) (1.6.0)\n",
            "Requirement already satisfied: setuptools in /usr/local/lib/python3.10/dist-packages (from dash) (75.1.0)\n",
            "Requirement already satisfied: tenacity>=6.2.0 in /usr/local/lib/python3.10/dist-packages (from plotly) (9.0.0)\n",
            "Requirement already satisfied: packaging in /usr/local/lib/python3.10/dist-packages (from plotly) (24.2)\n",
            "Requirement already satisfied: soupsieve>1.2 in /usr/local/lib/python3.10/dist-packages (from beautifulsoup4>=4.11.1->yfinance) (2.6)\n",
            "Requirement already satisfied: Jinja2>=3.1.2 in /usr/local/lib/python3.10/dist-packages (from Flask<3.1,>=1.0.4->dash) (3.1.4)\n",
            "Requirement already satisfied: itsdangerous>=2.1.2 in /usr/local/lib/python3.10/dist-packages (from Flask<3.1,>=1.0.4->dash) (2.2.0)\n",
            "Requirement already satisfied: click>=8.1.3 in /usr/local/lib/python3.10/dist-packages (from Flask<3.1,>=1.0.4->dash) (8.1.7)\n",
            "Requirement already satisfied: blinker>=1.6.2 in /usr/local/lib/python3.10/dist-packages (from Flask<3.1,>=1.0.4->dash) (1.9.0)\n",
            "Requirement already satisfied: six>=1.9 in /usr/local/lib/python3.10/dist-packages (from html5lib>=1.1->yfinance) (1.16.0)\n",
            "Requirement already satisfied: webencodings in /usr/local/lib/python3.10/dist-packages (from html5lib>=1.1->yfinance) (0.5.1)\n",
            "Requirement already satisfied: python-dateutil>=2.8.2 in /usr/local/lib/python3.10/dist-packages (from pandas>=1.3.0->yfinance) (2.8.2)\n",
            "Requirement already satisfied: tzdata>=2022.7 in /usr/local/lib/python3.10/dist-packages (from pandas>=1.3.0->yfinance) (2024.2)\n",
            "Requirement already satisfied: charset-normalizer<4,>=2 in /usr/local/lib/python3.10/dist-packages (from requests>=2.31->yfinance) (3.4.0)\n",
            "Requirement already satisfied: idna<4,>=2.5 in /usr/local/lib/python3.10/dist-packages (from requests>=2.31->yfinance) (3.10)\n",
            "Requirement already satisfied: urllib3<3,>=1.21.1 in /usr/local/lib/python3.10/dist-packages (from requests>=2.31->yfinance) (2.2.3)\n",
            "Requirement already satisfied: certifi>=2017.4.17 in /usr/local/lib/python3.10/dist-packages (from requests>=2.31->yfinance) (2024.8.30)\n",
            "Requirement already satisfied: MarkupSafe>=2.1.1 in /usr/local/lib/python3.10/dist-packages (from Werkzeug<3.1->dash) (3.0.2)\n",
            "Requirement already satisfied: zipp>=3.20 in /usr/local/lib/python3.10/dist-packages (from importlib-metadata->dash) (3.20.2)\n"
          ]
        }
      ],
      "source": [
        "!pip install yfinance dash plotly"
      ]
    },
    {
      "cell_type": "markdown",
      "source": [
        "2nd step, import yfinance and pandas"
      ],
      "metadata": {
        "id": "rSxQxFlqtaWV"
      }
    },
    {
      "cell_type": "code",
      "source": [
        "import yfinance as yf\n",
        "import pandas as pd"
      ],
      "metadata": {
        "id": "FtBjynkgtRsl"
      },
      "execution_count": 29,
      "outputs": []
    },
    {
      "cell_type": "markdown",
      "source": [
        "Initialize Tesla ticker"
      ],
      "metadata": {
        "id": "Ht3huA1LtrAz"
      }
    },
    {
      "cell_type": "code",
      "source": [
        "# Initialize the Tesla ticker\n",
        "tesla = yf.Ticker(\"TSLA\")"
      ],
      "metadata": {
        "id": "VBz4tyu9tdLr"
      },
      "execution_count": 30,
      "outputs": []
    },
    {
      "cell_type": "markdown",
      "source": [
        "Fetching Tesla stock data with 5y period"
      ],
      "metadata": {
        "id": "fcrm_uHQuz2_"
      }
    },
    {
      "cell_type": "code",
      "source": [
        "# Fetch Tesla stock price data for the last 5 year\n",
        "tesla_stock_data = tesla.history(period=\"5y\")"
      ],
      "metadata": {
        "id": "cFaVh86-t465"
      },
      "execution_count": 31,
      "outputs": []
    },
    {
      "cell_type": "code",
      "source": [
        "print(tesla_stock_data.head())"
      ],
      "metadata": {
        "colab": {
          "base_uri": "https://localhost:8080/"
        },
        "id": "YCoWSQHoZzJE",
        "outputId": "55fef7b7-05d9-4a88-d021-57cdaef3cfa8"
      },
      "execution_count": 36,
      "outputs": [
        {
          "output_type": "stream",
          "name": "stdout",
          "text": [
            "                                Open       High        Low      Close  \\\n",
            "Date                                                                    \n",
            "2019-11-14 00:00:00-05:00  23.073999  23.589333  22.860666  23.290001   \n",
            "2019-11-15 00:00:00-05:00  23.375999  23.520000  23.224001  23.478001   \n",
            "2019-11-18 00:00:00-05:00  23.528000  23.543333  23.073334  23.332666   \n",
            "2019-11-19 00:00:00-05:00  23.450001  23.999332  23.186666  23.968000   \n",
            "2019-11-20 00:00:00-05:00  24.000000  24.080000  23.304667  23.481333   \n",
            "\n",
            "                              Volume  Dividends  Stock Splits  \n",
            "Date                                                           \n",
            "2019-11-14 00:00:00-05:00   96973500        0.0           0.0  \n",
            "2019-11-15 00:00:00-05:00   72135000        0.0           0.0  \n",
            "2019-11-18 00:00:00-05:00   66006000        0.0           0.0  \n",
            "2019-11-19 00:00:00-05:00  115872000        0.0           0.0  \n",
            "2019-11-20 00:00:00-05:00  100876500        0.0           0.0  \n"
          ]
        }
      ]
    },
    {
      "cell_type": "markdown",
      "source": [
        "#Extracting Tesla Revenue using yfinance"
      ],
      "metadata": {
        "id": "eykyF9fEw5yJ"
      }
    },
    {
      "cell_type": "markdown",
      "source": [
        "disclaimer: If this method will affect to the deduction of my points, that will be fine. I have difficulties using webscapping method and i think that this method is easier and faster."
      ],
      "metadata": {
        "id": "BgDXyiL-w_eb"
      }
    },
    {
      "cell_type": "markdown",
      "source": [
        "Fetch Tesla revenue price data for the last year"
      ],
      "metadata": {
        "id": "cxECgc0OxfAa"
      }
    },
    {
      "cell_type": "code",
      "source": [
        "tesla_financial_data = tesla.financials\n",
        "tesla_revenue = tesla_financial_data.loc[\"Total Revenue\"]"
      ],
      "metadata": {
        "id": "OW5YXOlIvbUF"
      },
      "execution_count": 32,
      "outputs": []
    },
    {
      "cell_type": "code",
      "source": [
        "print(tesla_revenue.tail())"
      ],
      "metadata": {
        "colab": {
          "base_uri": "https://localhost:8080/"
        },
        "id": "glMqfi0VabSp",
        "outputId": "5512e91f-767b-4819-a62c-4fd60299a992"
      },
      "execution_count": 38,
      "outputs": [
        {
          "output_type": "stream",
          "name": "stdout",
          "text": [
            "2023-12-31    96773000000.0\n",
            "2022-12-31    81462000000.0\n",
            "2021-12-31    53823000000.0\n",
            "2020-12-31    31536000000.0\n",
            "2019-12-31              NaN\n",
            "Name: Total Revenue, dtype: object\n"
          ]
        }
      ]
    },
    {
      "cell_type": "markdown",
      "source": [
        "Importing libraries to create the dashboard"
      ],
      "metadata": {
        "id": "Gj4IxH7Zu962"
      }
    },
    {
      "cell_type": "code",
      "source": [
        "import dash\n",
        "from dash import dcc, html\n",
        "import plotly.graph_objects as go"
      ],
      "metadata": {
        "id": "_JMeLiYqusdX"
      },
      "execution_count": 33,
      "outputs": []
    },
    {
      "cell_type": "markdown",
      "source": [
        "Initialize Dash App"
      ],
      "metadata": {
        "id": "o0ggznvgvCmx"
      }
    },
    {
      "cell_type": "code",
      "source": [
        "app = dash.Dash(__name__)"
      ],
      "metadata": {
        "id": "sxnXglZDu9e3"
      },
      "execution_count": 34,
      "outputs": []
    },
    {
      "cell_type": "code",
      "source": [
        "import dash\n",
        "from dash import dcc, html\n",
        "import plotly.graph_objects as go\n",
        "\n",
        "# Initialize Dash app\n",
        "app = dash.Dash(__name__)\n",
        "\n",
        "# Define the layout of the dashboard\n",
        "app.layout = html.Div([\n",
        "    html.H1(\"Tesla Revenue and Stock Dashboard\", style={\"text-align\": \"center\"}),\n",
        "\n",
        "    # Stock Price Chart\n",
        "    dcc.Graph(\n",
        "        id=\"stock-chart\",\n",
        "        figure={\n",
        "            \"data\": [\n",
        "                go.Candlestick(\n",
        "                    x=tesla_stock_data.index,\n",
        "                    open=tesla_stock_data[\"Open\"],\n",
        "                    high=tesla_stock_data[\"High\"],\n",
        "                    low=tesla_stock_data[\"Low\"],\n",
        "                    close=tesla_stock_data[\"Close\"],\n",
        "                    name=\"Stock Price\"\n",
        "                )\n",
        "            ],\n",
        "            \"layout\": go.Layout(\n",
        "                title=\"Tesla Stock Price (1 Year)\",\n",
        "                xaxis={\"title\": \"Date\"},\n",
        "                yaxis={\"title\": \"Price (USD)\"},\n",
        "                template=\"plotly_dark\"\n",
        "            )\n",
        "        }\n",
        "    ),\n",
        "\n",
        "    # Revenue Bar Chart\n",
        "    dcc.Graph(\n",
        "        id=\"revenue-chart\",\n",
        "        figure={\n",
        "            \"data\": [\n",
        "                go.Bar(\n",
        "                    x=tesla_revenue.index,\n",
        "                    y=tesla_revenue.values / 1e9,  # Convert to billions for readability\n",
        "                    name=\"Annual Revenue (in billions)\"\n",
        "                )\n",
        "            ],\n",
        "            \"layout\": go.Layout(\n",
        "                title=\"Tesla Annual Revenue\",\n",
        "                xaxis={\"title\": \"Year\"},\n",
        "                yaxis={\"title\": \"Revenue (in billions USD)\"},\n",
        "                template=\"plotly_dark\"\n",
        "            )\n",
        "        }\n",
        "    )\n",
        "])\n",
        "\n",
        "# Run the app\n",
        "if __name__ == \"__main__\":\n",
        "    app.run_server(debug=True)\n"
      ],
      "metadata": {
        "id": "0bAqLPQjvFeN",
        "colab": {
          "base_uri": "https://localhost:8080/",
          "height": 672
        },
        "outputId": "75edc39f-654a-4b1d-83a3-07a1a15a1ccc"
      },
      "execution_count": 35,
      "outputs": [
        {
          "output_type": "display_data",
          "data": {
            "text/plain": [
              "<IPython.core.display.Javascript object>"
            ],
            "application/javascript": [
              "(async (port, path, width, height, cache, element) => {\n",
              "    if (!google.colab.kernel.accessAllowed && !cache) {\n",
              "      return;\n",
              "    }\n",
              "    element.appendChild(document.createTextNode(''));\n",
              "    const url = await google.colab.kernel.proxyPort(port, {cache});\n",
              "    const iframe = document.createElement('iframe');\n",
              "    iframe.src = new URL(path, url).toString();\n",
              "    iframe.height = height;\n",
              "    iframe.width = width;\n",
              "    iframe.style.border = 0;\n",
              "    iframe.allow = [\n",
              "        'accelerometer',\n",
              "        'autoplay',\n",
              "        'camera',\n",
              "        'clipboard-read',\n",
              "        'clipboard-write',\n",
              "        'gyroscope',\n",
              "        'magnetometer',\n",
              "        'microphone',\n",
              "        'serial',\n",
              "        'usb',\n",
              "        'xr-spatial-tracking',\n",
              "    ].join('; ');\n",
              "    element.appendChild(iframe);\n",
              "  })(8050, \"/\", \"100%\", 650, false, window.element)"
            ]
          },
          "metadata": {}
        }
      ]
    }
  ]
}