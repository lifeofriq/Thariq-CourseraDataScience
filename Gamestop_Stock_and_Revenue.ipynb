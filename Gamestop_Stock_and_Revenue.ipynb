{
  "nbformat": 4,
  "nbformat_minor": 0,
  "metadata": {
    "colab": {
      "provenance": []
    },
    "kernelspec": {
      "name": "python3",
      "display_name": "Python 3"
    },
    "language_info": {
      "name": "python"
    }
  },
  "cells": [
    {
      "cell_type": "markdown",
      "source": [
        "#Extracting Gamestop Stock Data Using yfinance"
      ],
      "metadata": {
        "id": "tKHbLsOxtSU5"
      }
    },
    {
      "cell_type": "markdown",
      "source": [
        "1st step: Install the library needed"
      ],
      "metadata": {
        "id": "okNTCqpetWDJ"
      }
    },
    {
      "cell_type": "code",
      "execution_count": 1,
      "metadata": {
        "colab": {
          "base_uri": "https://localhost:8080/"
        },
        "id": "mY_iwWeItHQU",
        "outputId": "d8ea4f15-f0a3-42d4-8f11-a235e0d683c9"
      },
      "outputs": [
        {
          "output_type": "stream",
          "name": "stdout",
          "text": [
            "Requirement already satisfied: yfinance in /usr/local/lib/python3.10/dist-packages (0.2.48)\n",
            "Collecting dash\n",
            "  Downloading dash-2.18.2-py3-none-any.whl.metadata (10 kB)\n",
            "Requirement already satisfied: plotly in /usr/local/lib/python3.10/dist-packages (5.24.1)\n",
            "Requirement already satisfied: pandas>=1.3.0 in /usr/local/lib/python3.10/dist-packages (from yfinance) (2.2.2)\n",
            "Requirement already satisfied: numpy>=1.16.5 in /usr/local/lib/python3.10/dist-packages (from yfinance) (1.26.4)\n",
            "Requirement already satisfied: requests>=2.31 in /usr/local/lib/python3.10/dist-packages (from yfinance) (2.32.3)\n",
            "Requirement already satisfied: multitasking>=0.0.7 in /usr/local/lib/python3.10/dist-packages (from yfinance) (0.0.11)\n",
            "Requirement already satisfied: lxml>=4.9.1 in /usr/local/lib/python3.10/dist-packages (from yfinance) (5.3.0)\n",
            "Requirement already satisfied: platformdirs>=2.0.0 in /usr/local/lib/python3.10/dist-packages (from yfinance) (4.3.6)\n",
            "Requirement already satisfied: pytz>=2022.5 in /usr/local/lib/python3.10/dist-packages (from yfinance) (2024.2)\n",
            "Requirement already satisfied: frozendict>=2.3.4 in /usr/local/lib/python3.10/dist-packages (from yfinance) (2.4.6)\n",
            "Requirement already satisfied: peewee>=3.16.2 in /usr/local/lib/python3.10/dist-packages (from yfinance) (3.17.7)\n",
            "Requirement already satisfied: beautifulsoup4>=4.11.1 in /usr/local/lib/python3.10/dist-packages (from yfinance) (4.12.3)\n",
            "Requirement already satisfied: html5lib>=1.1 in /usr/local/lib/python3.10/dist-packages (from yfinance) (1.1)\n",
            "Requirement already satisfied: Flask<3.1,>=1.0.4 in /usr/local/lib/python3.10/dist-packages (from dash) (3.0.3)\n",
            "Collecting Werkzeug<3.1 (from dash)\n",
            "  Downloading werkzeug-3.0.6-py3-none-any.whl.metadata (3.7 kB)\n",
            "Collecting dash-html-components==2.0.0 (from dash)\n",
            "  Downloading dash_html_components-2.0.0-py3-none-any.whl.metadata (3.8 kB)\n",
            "Collecting dash-core-components==2.0.0 (from dash)\n",
            "  Downloading dash_core_components-2.0.0-py3-none-any.whl.metadata (2.9 kB)\n",
            "Collecting dash-table==5.0.0 (from dash)\n",
            "  Downloading dash_table-5.0.0-py3-none-any.whl.metadata (2.4 kB)\n",
            "Requirement already satisfied: importlib-metadata in /usr/local/lib/python3.10/dist-packages (from dash) (8.5.0)\n",
            "Requirement already satisfied: typing-extensions>=4.1.1 in /usr/local/lib/python3.10/dist-packages (from dash) (4.12.2)\n",
            "Collecting retrying (from dash)\n",
            "  Downloading retrying-1.3.4-py3-none-any.whl.metadata (6.9 kB)\n",
            "Requirement already satisfied: nest-asyncio in /usr/local/lib/python3.10/dist-packages (from dash) (1.6.0)\n",
            "Requirement already satisfied: setuptools in /usr/local/lib/python3.10/dist-packages (from dash) (75.1.0)\n",
            "Requirement already satisfied: tenacity>=6.2.0 in /usr/local/lib/python3.10/dist-packages (from plotly) (9.0.0)\n",
            "Requirement already satisfied: packaging in /usr/local/lib/python3.10/dist-packages (from plotly) (24.2)\n",
            "Requirement already satisfied: soupsieve>1.2 in /usr/local/lib/python3.10/dist-packages (from beautifulsoup4>=4.11.1->yfinance) (2.6)\n",
            "Requirement already satisfied: Jinja2>=3.1.2 in /usr/local/lib/python3.10/dist-packages (from Flask<3.1,>=1.0.4->dash) (3.1.4)\n",
            "Requirement already satisfied: itsdangerous>=2.1.2 in /usr/local/lib/python3.10/dist-packages (from Flask<3.1,>=1.0.4->dash) (2.2.0)\n",
            "Requirement already satisfied: click>=8.1.3 in /usr/local/lib/python3.10/dist-packages (from Flask<3.1,>=1.0.4->dash) (8.1.7)\n",
            "Requirement already satisfied: blinker>=1.6.2 in /usr/local/lib/python3.10/dist-packages (from Flask<3.1,>=1.0.4->dash) (1.9.0)\n",
            "Requirement already satisfied: six>=1.9 in /usr/local/lib/python3.10/dist-packages (from html5lib>=1.1->yfinance) (1.16.0)\n",
            "Requirement already satisfied: webencodings in /usr/local/lib/python3.10/dist-packages (from html5lib>=1.1->yfinance) (0.5.1)\n",
            "Requirement already satisfied: python-dateutil>=2.8.2 in /usr/local/lib/python3.10/dist-packages (from pandas>=1.3.0->yfinance) (2.8.2)\n",
            "Requirement already satisfied: tzdata>=2022.7 in /usr/local/lib/python3.10/dist-packages (from pandas>=1.3.0->yfinance) (2024.2)\n",
            "Requirement already satisfied: charset-normalizer<4,>=2 in /usr/local/lib/python3.10/dist-packages (from requests>=2.31->yfinance) (3.4.0)\n",
            "Requirement already satisfied: idna<4,>=2.5 in /usr/local/lib/python3.10/dist-packages (from requests>=2.31->yfinance) (3.10)\n",
            "Requirement already satisfied: urllib3<3,>=1.21.1 in /usr/local/lib/python3.10/dist-packages (from requests>=2.31->yfinance) (2.2.3)\n",
            "Requirement already satisfied: certifi>=2017.4.17 in /usr/local/lib/python3.10/dist-packages (from requests>=2.31->yfinance) (2024.8.30)\n",
            "Requirement already satisfied: MarkupSafe>=2.1.1 in /usr/local/lib/python3.10/dist-packages (from Werkzeug<3.1->dash) (3.0.2)\n",
            "Requirement already satisfied: zipp>=3.20 in /usr/local/lib/python3.10/dist-packages (from importlib-metadata->dash) (3.20.2)\n",
            "Downloading dash-2.18.2-py3-none-any.whl (7.8 MB)\n",
            "\u001b[2K   \u001b[90m━━━━━━━━━━━━━━━━━━━━━━━━━━━━━━━━━━━━━━━━\u001b[0m \u001b[32m7.8/7.8 MB\u001b[0m \u001b[31m23.8 MB/s\u001b[0m eta \u001b[36m0:00:00\u001b[0m\n",
            "\u001b[?25hDownloading dash_core_components-2.0.0-py3-none-any.whl (3.8 kB)\n",
            "Downloading dash_html_components-2.0.0-py3-none-any.whl (4.1 kB)\n",
            "Downloading dash_table-5.0.0-py3-none-any.whl (3.9 kB)\n",
            "Downloading werkzeug-3.0.6-py3-none-any.whl (227 kB)\n",
            "\u001b[2K   \u001b[90m━━━━━━━━━━━━━━━━━━━━━━━━━━━━━━━━━━━━━━━━\u001b[0m \u001b[32m228.0/228.0 kB\u001b[0m \u001b[31m8.2 MB/s\u001b[0m eta \u001b[36m0:00:00\u001b[0m\n",
            "\u001b[?25hDownloading retrying-1.3.4-py3-none-any.whl (11 kB)\n",
            "Installing collected packages: dash-table, dash-html-components, dash-core-components, Werkzeug, retrying, dash\n",
            "  Attempting uninstall: Werkzeug\n",
            "    Found existing installation: Werkzeug 3.1.3\n",
            "    Uninstalling Werkzeug-3.1.3:\n",
            "      Successfully uninstalled Werkzeug-3.1.3\n",
            "Successfully installed Werkzeug-3.0.6 dash-2.18.2 dash-core-components-2.0.0 dash-html-components-2.0.0 dash-table-5.0.0 retrying-1.3.4\n"
          ]
        }
      ],
      "source": [
        "!pip install yfinance dash plotly"
      ]
    },
    {
      "cell_type": "markdown",
      "source": [
        "2nd step, import yfinance and pandas"
      ],
      "metadata": {
        "id": "rSxQxFlqtaWV"
      }
    },
    {
      "cell_type": "code",
      "source": [
        "import yfinance as yf\n",
        "import pandas as pd"
      ],
      "metadata": {
        "id": "FtBjynkgtRsl"
      },
      "execution_count": 2,
      "outputs": []
    },
    {
      "cell_type": "markdown",
      "source": [
        "Initialize Gamestop ticker"
      ],
      "metadata": {
        "id": "Ht3huA1LtrAz"
      }
    },
    {
      "cell_type": "code",
      "source": [
        "# Initialize the Tesla ticker\n",
        "gamestop = yf.Ticker(\"GME\")"
      ],
      "metadata": {
        "id": "VBz4tyu9tdLr"
      },
      "execution_count": 3,
      "outputs": []
    },
    {
      "cell_type": "markdown",
      "source": [
        "Fetching Tesla stock data with 5y period"
      ],
      "metadata": {
        "id": "fcrm_uHQuz2_"
      }
    },
    {
      "cell_type": "code",
      "source": [
        "# Fetch Tesla stock price data for the last 5 year\n",
        "gamestop_stock_data = gamestop.history(period=\"5y\")"
      ],
      "metadata": {
        "id": "cFaVh86-t465"
      },
      "execution_count": 4,
      "outputs": []
    },
    {
      "cell_type": "code",
      "source": [
        "print(gamestop_stock_data.head())"
      ],
      "metadata": {
        "colab": {
          "base_uri": "https://localhost:8080/"
        },
        "id": "kEBYYP1VbC9n",
        "outputId": "f3f87968-7bca-429e-fbfd-aa53578e7e61"
      },
      "execution_count": 10,
      "outputs": [
        {
          "output_type": "stream",
          "name": "stdout",
          "text": [
            "                             Open    High     Low  Close    Volume  Dividends  \\\n",
            "Date                                                                            \n",
            "2019-11-14 00:00:00-05:00  1.4875  1.5275  1.4750  1.495   6834800        0.0   \n",
            "2019-11-15 00:00:00-05:00  1.5000  1.5025  1.4625  1.470   8663600        0.0   \n",
            "2019-11-18 00:00:00-05:00  1.4625  1.4625  1.4025  1.405  11983600        0.0   \n",
            "2019-11-19 00:00:00-05:00  1.3925  1.4150  1.3625  1.375  13442000        0.0   \n",
            "2019-11-20 00:00:00-05:00  1.3850  1.3850  1.3400  1.365  10666800        0.0   \n",
            "\n",
            "                           Stock Splits  \n",
            "Date                                     \n",
            "2019-11-14 00:00:00-05:00           0.0  \n",
            "2019-11-15 00:00:00-05:00           0.0  \n",
            "2019-11-18 00:00:00-05:00           0.0  \n",
            "2019-11-19 00:00:00-05:00           0.0  \n",
            "2019-11-20 00:00:00-05:00           0.0  \n"
          ]
        }
      ]
    },
    {
      "cell_type": "markdown",
      "source": [
        "#Extracting Tesla Revenue using yfinance"
      ],
      "metadata": {
        "id": "eykyF9fEw5yJ"
      }
    },
    {
      "cell_type": "markdown",
      "source": [
        "disclaimer: If this method will affect to the deduction of my points, that will be fine. I have difficulties using webscapping method and i think that this method is easier and faster."
      ],
      "metadata": {
        "id": "BgDXyiL-w_eb"
      }
    },
    {
      "cell_type": "markdown",
      "source": [
        "Fetch Tesla revenue price data for the last year"
      ],
      "metadata": {
        "id": "cxECgc0OxfAa"
      }
    },
    {
      "cell_type": "code",
      "source": [
        "gamestop_financial_data = gamestop.financials\n",
        "gamestop_revenue = gamestop_financial_data.loc[\"Total Revenue\"]"
      ],
      "metadata": {
        "id": "OW5YXOlIvbUF"
      },
      "execution_count": 5,
      "outputs": []
    },
    {
      "cell_type": "code",
      "source": [
        "print(gamestop_revenue.tail())"
      ],
      "metadata": {
        "colab": {
          "base_uri": "https://localhost:8080/"
        },
        "id": "cJocBo38bUWn",
        "outputId": "e2a36783-f42e-4189-dc1f-01c1ec62af14"
      },
      "execution_count": 12,
      "outputs": [
        {
          "output_type": "stream",
          "name": "stdout",
          "text": [
            "2024-01-31    5272800000.0\n",
            "2023-01-31    5927200000.0\n",
            "2022-01-31    6010700000.0\n",
            "2021-01-31    5089800000.0\n",
            "2020-01-31             NaN\n",
            "Name: Total Revenue, dtype: object\n"
          ]
        }
      ]
    },
    {
      "cell_type": "markdown",
      "source": [
        "Importing libraries to create the dashboard"
      ],
      "metadata": {
        "id": "Gj4IxH7Zu962"
      }
    },
    {
      "cell_type": "code",
      "source": [
        "import dash\n",
        "from dash import dcc, html\n",
        "import plotly.graph_objects as go"
      ],
      "metadata": {
        "id": "_JMeLiYqusdX"
      },
      "execution_count": 6,
      "outputs": []
    },
    {
      "cell_type": "markdown",
      "source": [
        "Initialize Dash App"
      ],
      "metadata": {
        "id": "o0ggznvgvCmx"
      }
    },
    {
      "cell_type": "code",
      "source": [
        "app = dash.Dash(__name__)"
      ],
      "metadata": {
        "id": "sxnXglZDu9e3"
      },
      "execution_count": 7,
      "outputs": []
    },
    {
      "cell_type": "code",
      "source": [
        "import dash\n",
        "from dash import dcc, html\n",
        "import plotly.graph_objects as go\n",
        "\n",
        "# Initialize Dash app\n",
        "app = dash.Dash(__name__)\n",
        "\n",
        "# Define the layout of the dashboard\n",
        "app.layout = html.Div([\n",
        "    html.H1(\"Gamestop Revenue and Stock Dashboard\", style={\"text-align\": \"center\"}),\n",
        "\n",
        "    # Stock Price Chart\n",
        "    dcc.Graph(\n",
        "        id=\"stock-chart\",\n",
        "        figure={\n",
        "            \"data\": [\n",
        "                go.Candlestick(\n",
        "                    x=gamestop_stock_data.index,\n",
        "                    open=gamestop_stock_data[\"Open\"],\n",
        "                    high=gamestop_stock_data[\"High\"],\n",
        "                    low=gamestop_stock_data[\"Low\"],\n",
        "                    close=gamestop_stock_data[\"Close\"],\n",
        "                    name=\"Stock Price\"\n",
        "                )\n",
        "            ],\n",
        "            \"layout\": go.Layout(\n",
        "                title=\"Gamestop Stock Price (5 Year)\",\n",
        "                xaxis={\"title\": \"Date\"},\n",
        "                yaxis={\"title\": \"Price (USD)\"},\n",
        "                template=\"plotly_dark\"\n",
        "            )\n",
        "        }\n",
        "    ),\n",
        "\n",
        "    # Revenue Bar Chart\n",
        "    dcc.Graph(\n",
        "        id=\"revenue-chart\",\n",
        "        figure={\n",
        "            \"data\": [\n",
        "                go.Bar(\n",
        "                    x=gamestop_revenue.index,\n",
        "                    y=gamestop_revenue.values / 1e9,  # Convert to billions for readability\n",
        "                    name=\"Annual Revenue (in billions)\"\n",
        "                )\n",
        "            ],\n",
        "            \"layout\": go.Layout(\n",
        "                title=\"Gamestop Annual Revenue\",\n",
        "                xaxis={\"title\": \"Year\"},\n",
        "                yaxis={\"title\": \"Revenue (in billions USD)\"},\n",
        "                template=\"plotly_dark\"\n",
        "            )\n",
        "        }\n",
        "    )\n",
        "])\n",
        "\n",
        "# Run the app\n",
        "if __name__ == \"__main__\":\n",
        "    app.run_server(debug=True)\n"
      ],
      "metadata": {
        "id": "0bAqLPQjvFeN",
        "colab": {
          "base_uri": "https://localhost:8080/",
          "height": 672
        },
        "outputId": "5e1c3f54-6894-4e97-f235-9941ed8dc539"
      },
      "execution_count": 8,
      "outputs": [
        {
          "output_type": "display_data",
          "data": {
            "text/plain": [
              "<IPython.core.display.Javascript object>"
            ],
            "application/javascript": [
              "(async (port, path, width, height, cache, element) => {\n",
              "    if (!google.colab.kernel.accessAllowed && !cache) {\n",
              "      return;\n",
              "    }\n",
              "    element.appendChild(document.createTextNode(''));\n",
              "    const url = await google.colab.kernel.proxyPort(port, {cache});\n",
              "    const iframe = document.createElement('iframe');\n",
              "    iframe.src = new URL(path, url).toString();\n",
              "    iframe.height = height;\n",
              "    iframe.width = width;\n",
              "    iframe.style.border = 0;\n",
              "    iframe.allow = [\n",
              "        'accelerometer',\n",
              "        'autoplay',\n",
              "        'camera',\n",
              "        'clipboard-read',\n",
              "        'clipboard-write',\n",
              "        'gyroscope',\n",
              "        'magnetometer',\n",
              "        'microphone',\n",
              "        'serial',\n",
              "        'usb',\n",
              "        'xr-spatial-tracking',\n",
              "    ].join('; ');\n",
              "    element.appendChild(iframe);\n",
              "  })(8050, \"/\", \"100%\", 650, false, window.element)"
            ]
          },
          "metadata": {}
        }
      ]
    }
  ]
}